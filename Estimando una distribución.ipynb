{
  "nbformat": 4,
  "nbformat_minor": 0,
  "metadata": {
    "colab": {
      "name": "Untitled2.ipynb",
      "provenance": [],
      "authorship_tag": "ABX9TyMK60Yo7Bfo9t+XSweMhS0s",
      "include_colab_link": true
    },
    "kernelspec": {
      "name": "python3",
      "display_name": "Python 3"
    }
  },
  "cells": [
    {
      "cell_type": "markdown",
      "metadata": {
        "id": "view-in-github",
        "colab_type": "text"
      },
      "source": [
        "<a href=\"https://colab.research.google.com/github/IvanJaimesN/ProbabilityClasses/blob/main/Estimando%20una%20distribuci%C3%B3n.ipynb\" target=\"_parent\"><img src=\"https://colab.research.google.com/assets/colab-badge.svg\" alt=\"Open In Colab\"/></a>"
      ]
    },
    {
      "cell_type": "code",
      "metadata": {
        "id": "FIVMSI-kMCQX"
      },
      "source": [
        "import numpy as np\n",
        "from matplotlib import pyplot \n",
        "from numpy.random import normal\n",
        "from scipy.stats import norm"
      ],
      "execution_count": 2,
      "outputs": []
    },
    {
      "cell_type": "code",
      "metadata": {
        "colab": {
          "base_uri": "https://localhost:8080/",
          "height": 265
        },
        "id": "1T714-_kMEU8",
        "outputId": "5f5feb49-076b-4789-cda3-6f98c75cdf1b"
      },
      "source": [
        "sample = normal(size = 10000) # generador de datos aleatorio, se emplea el numpy.random basado en la distribución normal\n",
        "\n",
        "pyplot.hist(sample, bins = 30)\n",
        "\n",
        "pyplot.show()"
      ],
      "execution_count": 3,
      "outputs": [
        {
          "output_type": "display_data",
          "data": {
            "image/png": "[encoded data removed]",
            "text/plain": [
              "<Figure size 432x288 with 1 Axes>"
            ]
          },
          "metadata": {
            "tags": [],
            "needs_background": "light"
          }
        }
      ]
    },
    {
      "cell_type": "markdown",
      "metadata": {
        "id": "9KsLVlWMMElL"
      },
      "source": [
        "## Estimación paramétrica\n",
        "\n"
      ]
    },
    {
      "cell_type": "code",
      "metadata": {
        "colab": {
          "base_uri": "https://localhost:8080/",
          "height": 265
        },
        "id": "O2TXuYPSkVlK",
        "outputId": "01083012-22b5-42e3-d0e6-8a218eb22cb4"
      },
      "source": [
        "# E. paramétrica está basada en forzar los parámetros de la distribución\n",
        "\n",
        "sample = normal(loc=50, scale=5, size=10000) # mu = 50, sigma = 5\n",
        "\n",
        "# Ajustar una distribución gaussiana\n",
        "mu = sample.mean()\n",
        "sigma = sample.std()\n",
        "\n",
        "# Creación de la distribución\n",
        "dist = norm(mu, sigma)\n",
        "\n",
        "# Construcción  de los valores numéricos donde se va a evaluar la distribución\n",
        "values = [value for value in range(30,70)]\n",
        "\n",
        "# Calculo de las probabilidades de cada uno de los valores\n",
        "probabilidades = [dist.pdf(value) for value in values]\n",
        "\n",
        "pyplot.hist(sample, bins = 30, density=True)  # Gráfica con valores normalizados\n",
        "\n",
        "pyplot.plot(values, probabilidades)\n",
        "\n",
        "pyplot.show()\n"
      ],
      "execution_count": 7,
      "outputs": [
        {
          "output_type": "display_data",
          "data": {
            "image/png": "[encoded data removed]",
            "text/plain": [
              "<Figure size 432x288 with 1 Axes>"
            ]
          },
          "metadata": {
            "tags": [],
            "needs_background": "light"
          }
        }
      ]
    },
    {
      "cell_type": "markdown",
      "metadata": {
        "id": "CBM1G2nQQG_x"
      },
      "source": [
        "# Estimación no paramétrica\n",
        "\n",
        "`Kernel Density estimation` \n",
        "* [parámetro de suavizado]: smoothing parameter \n",
        "* [función base]: basis function\n",
        "\n",
        "https://scikit-learn.org/stable/modules/density.html"
      ]
    },
    {
      "cell_type": "code",
      "metadata": {
        "colab": {
          "base_uri": "https://localhost:8080/"
        },
        "id": "gz25mmZXQPZ-",
        "outputId": "04223b91-2932-4014-ce01-b14165c9f4f8"
      },
      "source": [
        "from numpy import hstack\n",
        "from sklearn.neighbors import KernelDensity\n",
        "\n",
        "#construimos una distribución bimodal\n",
        "sample1 = normal(loc=20, scale=5, size=300)\n",
        "sample2 = normal(loc=40, scale=5, size=700)\n",
        "sample = hstack((sample1, sample2))\n",
        "\n",
        "model = KernelDensity(bandwidth = 2, kernel = 'gaussian') # bandwidth, parámetro de suavizado\n",
        "\n",
        "sample = sample.reshape(len(sample), 1)\n",
        "\n",
        "model.fit(sample)"
      ],
      "execution_count": 8,
      "outputs": [
        {
          "output_type": "execute_result",
          "data": {
            "text/plain": [
              "KernelDensity(algorithm='auto', atol=0, bandwidth=2, breadth_first=True,\n",
              "              kernel='gaussian', leaf_size=40, metric='euclidean',\n",
              "              metric_params=None, rtol=0)"
            ]
          },
          "metadata": {
            "tags": []
          },
          "execution_count": 8
        }
      ]
    },
    {
      "cell_type": "code",
      "metadata": {
        "colab": {
          "base_uri": "https://localhost:8080/",
          "height": 265
        },
        "id": "CnhcHSSZQchm",
        "outputId": "c2d5092f-ab61-488b-8209-3549cecb30b5"
      },
      "source": [
        "# \n",
        "values = np.asarray([value for value in range(1, 60)])\n",
        "values = values.reshape((len(values), 1))\n",
        "probabilities = model.score_samples(values) #probabilidad logarítmica, en logaritmos para evitar underflow\n",
        "probabilities = np.exp(probabilities)  # inversión de probabilidad\n",
        "\n",
        "pyplot.hist(sample, bins=50, density=True)\n",
        "pyplot.plot(values, probabilities)\n",
        "pyplot.show()"
      ],
      "execution_count": 9,
      "outputs": [
        {
          "output_type": "display_data",
          "data": {
            "image/png": "[encoded data removed]",
            "text/plain": [
              "<Figure size 432x288 with 1 Axes>"
            ]
          },
          "metadata": {
            "tags": [],
            "needs_background": "light"
          }
        }
      ]
    }
  ]
}