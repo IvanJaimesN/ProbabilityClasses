{
  "nbformat": 4,
  "nbformat_minor": 0,
  "metadata": {
    "colab": {
      "name": "Untitled0.ipynb",
      "provenance": [],
      "authorship_tag": "ABX9TyNiCrydBKyCxebF8dlDPnq1",
      "include_colab_link": true
    },
    "kernelspec": {
      "name": "python3",
      "display_name": "Python 3"
    }
  },
  "cells": [
    {
      "cell_type": "markdown",
      "metadata": {
        "id": "view-in-github",
        "colab_type": "text"
      },
      "source": [
        "<a href=\"https://colab.research.google.com/github/IvanJaimesN/ProbabilityClasses/blob/main/Distribuci%C3%B3n%20binomial.ipynb\" target=\"_parent\"><img src=\"https://colab.research.google.com/assets/colab-badge.svg\" alt=\"Open In Colab\"/></a>"
      ]
    },
    {
      "cell_type": "code",
      "metadata": {
        "id": "vpYnGkF5VtU3"
      },
      "source": [
        "import numpy as np\n",
        "from numpy.random import binomial\n",
        "from scipy.stats import binom\n",
        "from math import factorial\n",
        "import matplotlib.pyplot as plt"
      ],
      "execution_count": 2,
      "outputs": []
    },
    {
      "cell_type": "markdown",
      "metadata": {
        "id": "TgmYFVJbV-HQ"
      },
      "source": [
        "## Secuencias de eventos tipo Bernoulli\n",
        "\n",
        "$$\n",
        "P(k, n; p) = {n \\choose k} p^k (1-p)^{n-k} = \\frac{n!}{k!(n-k)!}p^k (1-p)^{n-k}\n",
        "$$"
      ]
    },
    {
      "cell_type": "code",
      "metadata": {
        "id": "rX_ZRr16YNdG"
      },
      "source": [
        "def my_binomial(k, n, p):\n",
        "  return ( factorial(n)/(factorial(k)*factorial(n-k)) )*pow(p,k)*pow(1-p,n-k)"
      ],
      "execution_count": 3,
      "outputs": []
    },
    {
      "cell_type": "code",
      "metadata": {
        "colab": {
          "base_uri": "https://localhost:8080/"
        },
        "id": "LYNtYbKfYllK",
        "outputId": "0ccb3633-a9c4-442f-f632-ed99f72cca37"
      },
      "source": [
        "my_binomial(2, 3, 0.5)"
      ],
      "execution_count": 4,
      "outputs": [
        {
          "output_type": "execute_result",
          "data": {
            "text/plain": [
              "0.375"
            ]
          },
          "metadata": {
            "tags": []
          },
          "execution_count": 4
        }
      ]
    },
    {
      "cell_type": "code",
      "metadata": {
        "colab": {
          "base_uri": "https://localhost:8080/"
        },
        "id": "rtYtllirZNqb",
        "outputId": "68ead097-906e-434a-821f-e2e8fe2241c5"
      },
      "source": [
        "3/8"
      ],
      "execution_count": 13,
      "outputs": [
        {
          "output_type": "execute_result",
          "data": {
            "text/plain": [
              "0.375"
            ]
          },
          "metadata": {
            "tags": []
          },
          "execution_count": 13
        }
      ]
    },
    {
      "cell_type": "code",
      "metadata": {
        "colab": {
          "base_uri": "https://localhost:8080/"
        },
        "id": "sxWgvwD8ZUUm",
        "outputId": "01d0bd7a-73f3-4c29-cb30-59bd3acf0697"
      },
      "source": [
        "## Empleando scipy\n",
        "dist = binom(3, 0.5) # 3 lanzamientos con una probabilidad de 0.5\n",
        "dist.pmf(2) # Evaluar la función para dos éxitos\n",
        "            # pmf Probability mass Function"
      ],
      "execution_count": 5,
      "outputs": [
        {
          "output_type": "execute_result",
          "data": {
            "text/plain": [
              "0.375"
            ]
          },
          "metadata": {
            "tags": []
          },
          "execution_count": 5
        }
      ]
    },
    {
      "cell_type": "markdown",
      "metadata": {
        "id": "cVRMWpXpZ7g7"
      },
      "source": [
        "## Validación del ejercicio hecho a mano\n",
        "\n",
        "$$\n",
        "P(k\\leq 2, n=3, p=1/2) = \\sum_{k=0}^2 \\left[ \\frac{n!}{k!(n-k)!}p^k (1-p)^{n-k} \\right] = \\frac{7}{8}\n",
        "$$"
      ]
    },
    {
      "cell_type": "code",
      "metadata": {
        "colab": {
          "base_uri": "https://localhost:8080/"
        },
        "id": "GvwIVnEVaHSE",
        "outputId": "fb0cf57f-eb19-4fd9-ce62-ebf3f3e29269"
      },
      "source": [
        "dist.cdf(2) # Cumulative density or distribution function"
      ],
      "execution_count": 6,
      "outputs": [
        {
          "output_type": "execute_result",
          "data": {
            "text/plain": [
              "0.875"
            ]
          },
          "metadata": {
            "tags": []
          },
          "execution_count": 6
        }
      ]
    },
    {
      "cell_type": "markdown",
      "metadata": {
        "id": "KFmUPNUVwHeN"
      },
      "source": [
        "## Simulaciones de secuencias con generadores aleatorios\n",
        "\n",
        "* Los generadores aleatorios tienen como propósito simular muestras de datos que resultarían de muestreos en la vida real de procesos aleatorios como lanzar una moneda o un dado."
      ]
    },
    {
      "cell_type": "code",
      "metadata": {
        "colab": {
          "base_uri": "https://localhost:8080/"
        },
        "id": "x3DbiPFuwJej",
        "outputId": "38aa1bfe-5598-48e0-d7be-4bbb4041684b"
      },
      "source": [
        "# simulación con 100 lanzamientos de moneda equilibrada\n",
        "# (ejecuta esta celda varias veces para observar la variación en los resultados)\n",
        "p=0.5\n",
        "n=3\n",
        "binomial(n, p) # Viene de la librería numpy.random"
      ],
      "execution_count": 12,
      "outputs": [
        {
          "output_type": "execute_result",
          "data": {
            "text/plain": [
              "0"
            ]
          },
          "metadata": {
            "tags": []
          },
          "execution_count": 12
        }
      ]
    },
    {
      "cell_type": "code",
      "metadata": {
        "id": "v-T7nBlhwfRc"
      },
      "source": [
        "# hacer varios eventos y guardarlos en un array\n",
        "arr = []\n",
        "\n",
        "for _ in range(100):\n",
        "  arr.append(binomial(n,p))"
      ],
      "execution_count": 13,
      "outputs": []
    },
    {
      "cell_type": "code",
      "metadata": {
        "colab": {
          "base_uri": "https://localhost:8080/",
          "height": 809
        },
        "id": "uP6Zc1n8w01T",
        "outputId": "1fddc82c-217c-47f8-977d-22491dc1a29f"
      },
      "source": [
        "def plot_hist(num_trials):\n",
        "  values = [0, 1, 2, 3]\n",
        "  arr = []\n",
        "  for _ in range(num_trials):\n",
        "    arr.append(binomial(n,p))\n",
        "  \n",
        "  # Construcción de una distribución simulada\n",
        "\n",
        "  # Contar cada tipo de evento\n",
        "  sim = np.unique(arr, return_counts=True)[1]/len(arr)\n",
        "  \n",
        "  teorica = [binom(3, 0.5).pmf(k) for k in values]\n",
        "\n",
        "  plt.bar(values, sim, color='red')\n",
        "  plt.bar(values, teorica, alpha=0.5, color='blue')\n",
        "  plt.title('{} experimentos'.format(num_trials))\n",
        "  plt.show()\n",
        "\n",
        "plot_hist(20)\n",
        "plot_hist(200)\n",
        "plot_hist(2000000)"
      ],
      "execution_count": 17,
      "outputs": [
        {
          "output_type": "display_data",
          "data": {
            "image/png": "[encoded data removed]",
            "text/plain": [
              "<Figure size 432x288 with 1 Axes>"
            ]
          },
          "metadata": {
            "tags": [],
            "needs_background": "light"
          }
        },
        {
          "output_type": "display_data",
          "data": {
            "image/png": "[encoded data removed]",
            "text/plain": [
              "<Figure size 432x288 with 1 Axes>"
            ]
          },
          "metadata": {
            "tags": [],
            "needs_background": "light"
          }
        },
        {
          "output_type": "display_data",
          "data": {
            "image/png": "[encoded data removed]",
            "text/plain": [
              "<Figure size 432x288 with 1 Axes>"
            ]
          },
          "metadata": {
            "tags": [],
            "needs_background": "light"
          }
        }
      ]
    }
  ]
}